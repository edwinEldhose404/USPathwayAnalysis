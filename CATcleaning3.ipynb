{
 "cells": [
  {
   "cell_type": "code",
   "execution_count": 81,
   "metadata": {},
   "outputs": [],
   "source": [
    "import pandas as pd\n",
    "import numpy as np\n",
    "import matplotlib as plot\n",
    "\n",
    "df = pd.read_excel('output.xlsx',index_col=0)"
   ]
  },
  {
   "cell_type": "code",
   "execution_count": 82,
   "metadata": {},
   "outputs": [
    {
     "data": {
      "text/plain": [
       "Index(['Candidate Name', 'Counselor Name', 'Block Amount Received Date',\n",
       "       'Univ. Pitched', 'Candidate Preferred College #1',\n",
       "       'Candidate Preferred College #2', '10th Percentage ',\n",
       "       '12th Percentange', 'UG - CGPA (out of 10) ', 'GPA (Out of 4)',\n",
       "       'PG - CGPA or %', 'Work Exp.', 'Highest Education',\n",
       "       'Designation - Company Name ', 'Candidate Application Status',\n",
       "       'Candidate Loan Status', 'KYC & Acad Documents Received',\n",
       "       'Tech Exam Scores', 'Coding Test Score', 'English Exam Scores',\n",
       "       'English Interview Score (15)', 'Tech. interview Score (10)',\n",
       "       'Application Type', 'Intake Status', 'U1Choice of School #1',\n",
       "       'U1Choice of Program #1', 'U1Passport #1', 'U1Resume #1', 'U1Degree #1',\n",
       "       'U1Transcript #1', 'U1Application Status #1', 'U1Offer Letter #1',\n",
       "       'U2Choice of School #2', 'U2Choice of Program #2',\n",
       "       'U2Application Status #2', 'U2Offer Letter #2', 'U2Deposit #2',\n",
       "       'U3Choice of School #3', 'U3Choice of Program #3',\n",
       "       'U3Application Status #3', 'U3Offer Letter #3', 'IIM / IIT  Status',\n",
       "       ' Loan Status', 'Loan Partner I', 'Existing Loan', 'CV/Resume',\n",
       "       'Sponsorship Letter', 'i20 Provisioned', 'Status ', 'initial', 'optb',\n",
       "       'optc', 'prefopt', 'noopt'],\n",
       "      dtype='object')"
      ]
     },
     "execution_count": 82,
     "metadata": {},
     "output_type": "execute_result"
    }
   ],
   "source": [
    "df.columns"
   ]
  },
  {
   "cell_type": "markdown",
   "metadata": {},
   "source": [
    "Create a column UniScore that stores to aggregate of UnderGrad and PostGrad Scores"
   ]
  },
  {
   "cell_type": "code",
   "execution_count": 83,
   "metadata": {},
   "outputs": [],
   "source": [
    "df['UniScore'] = df['PG - CGPA or %'] + df['UG - CGPA (out of 10) ']\n"
   ]
  },
  {
   "cell_type": "markdown",
   "metadata": {},
   "source": [
    "Null Values of PrefOpt changed to 'Rejected'"
   ]
  },
  {
   "cell_type": "code",
   "execution_count": 84,
   "metadata": {},
   "outputs": [],
   "source": [
    "df['prefopt'] = df['prefopt'].fillna('Rejected')"
   ]
  },
  {
   "cell_type": "markdown",
   "metadata": {},
   "source": [
    "Clean Highest Education"
   ]
  },
  {
   "cell_type": "code",
   "execution_count": 85,
   "metadata": {},
   "outputs": [],
   "source": [
    "changes = {\n",
    "    'b. sc': 'bsc',\n",
    "    'b. tech': 'btech',\n",
    "    'b.com': 'bcom',\n",
    "    'b.e': 'be',\n",
    "    'b.sc': 'bsc',\n",
    "    'b.tech': 'btech',\n",
    "    'llb': 'llb',\n",
    "    'b. tech': 'btech',\n",
    "    'bba': 'bba',\n",
    "    'llm': 'llm',\n",
    "    'm.com': 'mcom',\n",
    "    'm.sc': 'msc',\n",
    "    'm.tech': 'mtech',\n",
    "    'mba': 'mba',\n",
    "    'mca': 'mca',\n",
    "    'b. tech': 'btech',\n",
    "    'bams': 'bams',\n",
    "    'computer': 'btech',\n",
    "    'commerce': 'bca',\n",
    "    'econimics': 'bcom',\n",
    "    'be': 'be',\n",
    "    'bsc': 'bsc',\n",
    "    'chartered': 'ca',\n",
    "    'biomedi': 'mtech',\n",
    "    'machine learning': 'ms',\n",
    "    'pgdc': 'pgdc',\n",
    "    'pgdm': 'pgdm',\n",
    "    'No Higher Education':'NA'\n",
    "}\n",
    "\n",
    "for substring, new_value in changes.items():\n",
    "    df.loc[df['Highest Education'].str.contains(substring, case=False), 'Highest Education'] = new_value\n"
   ]
  },
  {
   "cell_type": "markdown",
   "metadata": {},
   "source": [
    "Clean Loan Partner 1"
   ]
  },
  {
   "cell_type": "code",
   "execution_count": 86,
   "metadata": {},
   "outputs": [],
   "source": [
    "changes = {\n",
    "    'hdfc': 'hdfc',\n",
    "    'univ.': 'univ finaid dept',\n",
    "    'icici':'icici',\n",
    "    'nil':'nil'\n",
    "}\n",
    "\n",
    "for substring, new_value in changes.items():\n",
    "    df.loc[df['Loan Partner I'].str.contains(substring, case=False), 'Loan Partner I'] = new_value\n"
   ]
  },
  {
   "cell_type": "markdown",
   "metadata": {},
   "source": [
    "Clean Loan Status"
   ]
  },
  {
   "cell_type": "code",
   "execution_count": 88,
   "metadata": {},
   "outputs": [],
   "source": [
    "changes = {\n",
    "    'sanctioned': 'sanctioned',\n",
    "    'intake': 'next intake',\n",
    "    'submitted':'submitted',\n",
    "    'mpower':'sanctioned',\n",
    "    'pending':'pending',\n",
    "    'yet to contact':'pending',\n",
    "    'dicey':'pending'\n",
    "}\n",
    "\n",
    "for substring, new_value in changes.items():\n",
    "    df.loc[df[' Loan Status'].str.contains(substring, case=False), ' Loan Status'] = new_value\n"
   ]
  },
  {
   "cell_type": "code",
   "execution_count": 89,
   "metadata": {},
   "outputs": [],
   "source": [
    "df.to_excel('output.xlsx')"
   ]
  }
 ],
 "metadata": {
  "kernelspec": {
   "display_name": "base",
   "language": "python",
   "name": "python3"
  },
  "language_info": {
   "codemirror_mode": {
    "name": "ipython",
    "version": 3
   },
   "file_extension": ".py",
   "mimetype": "text/x-python",
   "name": "python",
   "nbconvert_exporter": "python",
   "pygments_lexer": "ipython3",
   "version": "3.12.4"
  }
 },
 "nbformat": 4,
 "nbformat_minor": 2
}
