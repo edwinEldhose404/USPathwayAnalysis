{
 "cells": [
  {
   "cell_type": "code",
   "execution_count": 2,
   "metadata": {},
   "outputs": [],
   "source": [
    "import pandas as pd\n",
    "import numpy as np\n",
    "import matplotlib as plot\n",
    "\n",
    "df = pd.read_excel('output_file.xlsx',index_col=0)"
   ]
  },
  {
   "cell_type": "code",
   "execution_count": 3,
   "metadata": {},
   "outputs": [
    {
     "data": {
      "text/plain": [
       "Index(['Candidate Name', 'Counselor Name', 'Block Amount Received Date',\n",
       "       'Univ. Pitched', 'Candidate Preferred College #1',\n",
       "       'Candidate Preferred College #2', '10th Percentage ',\n",
       "       '12th Percentange', 'UG - CGPA (out of 10) ', 'GPA (Out of 4)',\n",
       "       'PG - CGPA or %', 'Work Exp.', 'Highest Education',\n",
       "       'Designation - Company Name ', 'Candidate Application Status',\n",
       "       'Candidate Loan Status', 'KYC & Acad Documents Received',\n",
       "       'Tech Exam Scores', 'Coding Test Score', 'English Exam Scores',\n",
       "       'English Interview Score (15)', 'Tech. interview Score (10)',\n",
       "       'Application Type', 'Intake Status', 'U1Choice of School #1',\n",
       "       'U1Choice of Program #1', 'U1Passport #1', 'U1Resume #1', 'U1Degree #1',\n",
       "       'U1Transcript #1', 'U1Application Status #1', 'U1Offer Letter #1',\n",
       "       'U2Choice of School #2', 'U2Choice of Program #2',\n",
       "       'U2Application Status #2', 'U2Offer Letter #2', 'U2Deposit #2',\n",
       "       'U3Choice of School #3', 'U3Choice of Program #3',\n",
       "       'U3Application Status #3', 'U3Offer Letter #3', 'IIM / IIT  Status',\n",
       "       ' Loan Status', 'Loan Partner I', 'Existing Loan', 'CV/Resume',\n",
       "       'Sponsorship Letter', 'i20 Provisioned', 'Status ', 'initial', 'optb',\n",
       "       'optc', 'prefopt', 'noopt'],\n",
       "      dtype='object')"
      ]
     },
     "execution_count": 3,
     "metadata": {},
     "output_type": "execute_result"
    }
   ],
   "source": [
    "df.columns"
   ]
  },
  {
   "cell_type": "code",
   "execution_count": 6,
   "metadata": {},
   "outputs": [],
   "source": [
    "df['UniScore'] = df['PG - CGPA or %'] + df['UG - CGPA (out of 10) ']\n"
   ]
  },
  {
   "cell_type": "code",
   "execution_count": 7,
   "metadata": {},
   "outputs": [],
   "source": [
    "df.to_excel('output_file.xlsx')"
   ]
  }
 ],
 "metadata": {
  "kernelspec": {
   "display_name": "base",
   "language": "python",
   "name": "python3"
  },
  "language_info": {
   "codemirror_mode": {
    "name": "ipython",
    "version": 3
   },
   "file_extension": ".py",
   "mimetype": "text/x-python",
   "name": "python",
   "nbconvert_exporter": "python",
   "pygments_lexer": "ipython3",
   "version": "3.11.4"
  }
 },
 "nbformat": 4,
 "nbformat_minor": 2
}
