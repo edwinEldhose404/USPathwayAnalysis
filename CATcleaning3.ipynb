{
 "cells": [
  {
   "cell_type": "code",
   "execution_count": 11,
   "metadata": {},
   "outputs": [],
   "source": [
    "import pandas as pd\n",
    "import numpy as np\n",
    "import matplotlib as plot\n",
    "\n",
    "df = pd.read_excel('output_file.xlsx',index_col=0)"
   ]
  },
  {
   "cell_type": "code",
   "execution_count": 12,
   "metadata": {},
   "outputs": [
    {
     "data": {
      "text/plain": [
       "Index(['S. No.', 'Candidate Name', 'Counselor Name',\n",
       "       'Block Amount Received Date', 'Univ. Pitched',\n",
       "       'Candidate Preferred College #1', 'Candidate Preferred College #2',\n",
       "       '10th Percentage ', '12th Percentange', 'UG - CGPA (out of 10) ',\n",
       "       'GPA (Out of 4)', 'PG - CGPA or %', 'Work Exp.', 'Highest Education',\n",
       "       'Designation - Company Name ', 'Candidate Application Status',\n",
       "       'Candidate Loan Status', 'KYC & Acad Documents Received',\n",
       "       'Tech Exam Scores', 'Coding Test Score', 'English Exam Scores',\n",
       "       'English Interview Score (15)', 'Tech. interview Score (10)',\n",
       "       'Application Type', 'Intake Status', 'U1Choice of School #1',\n",
       "       'U1Choice of Program #1', 'U1Passport #1', 'U1Resume #1', 'U1Degree #1',\n",
       "       'U1Transcript #1', 'U1Application Status #1', 'U1Offer Letter #1',\n",
       "       'U2Choice of School #2', 'U2Choice of Program #2',\n",
       "       'U2Application Status #2', 'U2Offer Letter #2', 'U2Deposit #2',\n",
       "       'U3Choice of School #3', 'U3Choice of Program #3',\n",
       "       'U3Application Status #3', 'U3Offer Letter #3', 'IIM / IIT  Status',\n",
       "       ' Loan Status', 'Loan Partner I', 'Existing Loan', 'CV/Resume',\n",
       "       'Sponsorship Letter', 'i20 Provisioned', 'Status ', 'AcadScore',\n",
       "       'UniScore', 'initial', 'optb', 'optc', 'prefopt', 'noopt'],\n",
       "      dtype='object')"
      ]
     },
     "execution_count": 12,
     "metadata": {},
     "output_type": "execute_result"
    }
   ],
   "source": [
    "df.columns"
   ]
  },
  {
   "cell_type": "code",
   "execution_count": 15,
   "metadata": {},
   "outputs": [],
   "source": [
    "def split_institution(row):\n",
    "    if pd.isna(row):\n",
    "        return 'GEN', 'GEN'\n",
    "    row = str(row)\n",
    "    if ' School of ' in row:\n",
    "        parts = row.split(' School of ', 1)\n",
    "        return parts[0], 'School of ' + parts[1]\n",
    "    elif ' School ' in row:\n",
    "        parts = row.split(' School ', 1)\n",
    "        return parts[0], 'School ' + parts[1]\n",
    "    elif ' College of ' in row:\n",
    "        parts = row.split(' College of ', 1)\n",
    "        return parts[0], 'College of ' + parts[1]\n",
    "    elif ' College ' in row:\n",
    "        parts = row.split(' College ', 1)\n",
    "        return parts[0], 'College ' + parts[1]\n",
    "    elif ' Business School' in row:\n",
    "        parts = row.rsplit(' Business School', 1)\n",
    "        return parts[0], 'Business School'\n",
    "    else:\n",
    "        return row, 'GEN'\n",
    "\n",
    "df[['prefUniversity', 'prefSchool']] = df['prefopt'].apply(lambda x: pd.Series(split_institution(x)))\n",
    "\n"
   ]
  },
  {
   "cell_type": "code",
   "execution_count": 17,
   "metadata": {},
   "outputs": [],
   "source": [
    "df.to_excel('temp.xlsx')"
   ]
  }
 ],
 "metadata": {
  "kernelspec": {
   "display_name": "base",
   "language": "python",
   "name": "python3"
  },
  "language_info": {
   "codemirror_mode": {
    "name": "ipython",
    "version": 3
   },
   "file_extension": ".py",
   "mimetype": "text/x-python",
   "name": "python",
   "nbconvert_exporter": "python",
   "pygments_lexer": "ipython3",
   "version": "3.11.4"
  }
 },
 "nbformat": 4,
 "nbformat_minor": 2
}
