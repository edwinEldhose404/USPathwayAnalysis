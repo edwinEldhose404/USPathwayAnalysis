{
 "cells": [
  {
   "cell_type": "code",
   "execution_count": 24,
   "metadata": {},
   "outputs": [],
   "source": [
    "import pandas as pd\n",
    "import numpy as np\n",
    "import matplotlib as plot\n",
    "\n",
    "df = pd.read_excel('output.xlsx',index_col=0)"
   ]
  },
  {
   "cell_type": "markdown",
   "metadata": {},
   "source": [
    "Frequently used tools"
   ]
  },
  {
   "cell_type": "code",
   "execution_count": 25,
   "metadata": {},
   "outputs": [
    {
     "name": "stdout",
     "output_type": "stream",
     "text": [
      "Index(['Candidate Name', 'Counselor Name', 'Block Amount Received Date',\n",
      "       'Univ. Pitched', 'Candidate Preferred College #1',\n",
      "       'Candidate Preferred College #2', '10th Percentage ',\n",
      "       '12th Percentange', 'UG - CGPA (out of 10) ', 'GPA (Out of 4)',\n",
      "       'PG - CGPA or %', 'Work Exp.', 'Highest Education',\n",
      "       'Designation - Company Name ', 'Candidate Application Status',\n",
      "       'Candidate Loan Status', 'KYC & Acad Documents Received',\n",
      "       'Tech Exam Scores', 'Coding Test Score', 'English Exam Scores',\n",
      "       'English Interview Score (15)', 'Tech. interview Score (10)',\n",
      "       'Application Type', 'Intake Status', 'U1Choice of School #1',\n",
      "       'U1Choice of Program #1', 'U1Passport #1', 'U1Resume #1', 'U1Degree #1',\n",
      "       'U1Transcript #1', 'U1Application Status #1', 'U1Offer Letter #1',\n",
      "       'U2Choice of School #2', 'U2Choice of Program #2',\n",
      "       'U2Application Status #2', 'U2Offer Letter #2', 'U2Deposit #2',\n",
      "       'U3Choice of School #3', 'U3Choice of Program #3',\n",
      "       'U3Application Status #3', 'U3Offer Letter #3', 'IIM / IIT  Status',\n",
      "       ' Loan Status', 'Loan Partner I', 'Existing Loan', 'CV/Resume',\n",
      "       'Sponsorship Letter', 'i20 Provisioned', 'Status '],\n",
      "      dtype='object')\n"
     ]
    }
   ],
   "source": [
    "print(df.columns)"
   ]
  },
  {
   "cell_type": "markdown",
   "metadata": {},
   "source": [
    "Modifying all the offer letter columns to onky contain three values :\n",
    "-Received\n",
    "-Awaited\n",
    "-Rejected\n"
   ]
  },
  {
   "cell_type": "code",
   "execution_count": 26,
   "metadata": {},
   "outputs": [
    {
     "name": "stdout",
     "output_type": "stream",
     "text": [
      "['received' 'Not Received' 'rejected' 'awaited']\n",
      "['Awaited' 'received but went ahead with different university' 'received'\n",
      " 'awaited' 'rejected']\n",
      "['Awaited' 'received' 'rejected' 'awaited']\n"
     ]
    }
   ],
   "source": [
    "print(df['U1Offer Letter #1'].unique())\n",
    "print(df['U2Offer Letter #2'].unique())\n",
    "print(df['U3Offer Letter #3'].unique())"
   ]
  },
  {
   "cell_type": "code",
   "execution_count": 27,
   "metadata": {},
   "outputs": [],
   "source": [
    "df['U2Offer Letter #2'] = df['U2Offer Letter #2'].replace('received but went ahead with different university', 'received')\n",
    "\n",
    "df['U1Offer Letter #1'] = df['U1Offer Letter #1'].replace('Not Received','awaited')\n",
    "\n",
    "offerlet = ['U1Offer Letter #1','U2Offer Letter #2','U3Offer Letter #3']\n",
    "\n",
    "for col in offerlet:\n",
    "    df[col] = df[col].replace('Awaited','awaited')\n",
    "\n",
    "checkcol = ['U1Choice of School #1', 'U2Choice of School #2', 'U3Choice of School #3']\n",
    "\n",
    "for col in checkcol:\n",
    "    df[col] = df[col].replace('No choice','No Choice')"
   ]
  },
  {
   "cell_type": "markdown",
   "metadata": {},
   "source": [
    "Making a new columns which displays name of university if offer letter received\n",
    "else displays rejected or awaited\n",
    "(based on 3 dif choices)"
   ]
  },
  {
   "cell_type": "code",
   "execution_count": 28,
   "metadata": {},
   "outputs": [],
   "source": [
    "df['initial'] = df.apply(lambda row: row['U1Choice of School #1'] if row['U1Offer Letter #1'] == 'received' else row['U1Offer Letter #1'], axis=1)"
   ]
  },
  {
   "cell_type": "code",
   "execution_count": 29,
   "metadata": {},
   "outputs": [],
   "source": [
    "df['optb'] = df.apply(lambda row: row['U2Choice of School #2'] if row['U2Offer Letter #2'] == 'received' else row['U2Offer Letter #2'], axis=1)"
   ]
  },
  {
   "cell_type": "code",
   "execution_count": 30,
   "metadata": {},
   "outputs": [],
   "source": [
    "df['optc'] = df.apply(lambda row: row['U3Choice of School #3'] if row['U3Offer Letter #3'] == 'received' else row['U3Choice of School #3'], axis=1)"
   ]
  },
  {
   "cell_type": "markdown",
   "metadata": {},
   "source": [
    "New Column for displaying most prefered available university\n",
    "this means it will contain the most preffered university a candidate got offer letter from"
   ]
  },
  {
   "cell_type": "code",
   "execution_count": 31,
   "metadata": {},
   "outputs": [],
   "source": [
    "def get_name(row):\n",
    "    if row['initial'] not in ['awaited', 'rejected','No Choice']:\n",
    "        return row['initial']\n",
    "    elif row['optb'] not in ['awaited', 'rejected','No Choice']:\n",
    "        return row['optb']\n",
    "    elif row['optc'] not in ['awaited', 'rejected','No Choice']:\n",
    "        return row['optc']\n",
    "    else:\n",
    "        return 'Not Selected'\n",
    "\n",
    "df['prefopt'] = df.apply(get_name, axis=1)"
   ]
  },
  {
   "cell_type": "markdown",
   "metadata": {},
   "source": [
    "New column for students who havent been confirmed admission"
   ]
  },
  {
   "cell_type": "code",
   "execution_count": 32,
   "metadata": {},
   "outputs": [],
   "source": [
    "def get_adm(row):\n",
    "    if row['prefopt'] in ['Not Selected']:\n",
    "        return 0\n",
    "    else:\n",
    "        return 1\n",
    "\n",
    "# Apply the function to each row to create the new column\n",
    "df['noopt'] = df.apply(get_adm, axis=1)"
   ]
  },
  {
   "cell_type": "code",
   "execution_count": 33,
   "metadata": {},
   "outputs": [
    {
     "data": {
      "text/plain": [
       "array(['No Choice',\n",
       "       'fairfield university, charles f. dolan school of business',\n",
       "       'university at buffalo (suny), school of management',\n",
       "       'cwru, weatherhead school of management',\n",
       "       'pace university, lubin school of business',\n",
       "       'rit, saunders college of business',\n",
       "       'rider university, brodsky college of business',\n",
       "       'rutgers business school',\n",
       "       'the university of akron, school of engineering and polymer science',\n",
       "       'seattle university, albers school of business and economics',\n",
       "       'fordham university',\n",
       "       'millsaps college, the else school of management',\n",
       "       'west texas a&m university, paul and virginia engler college of business',\n",
       "       'depaul kellstadt graduate school of business',\n",
       "       'tulane university, school of science and engineering',\n",
       "       'stony brook university, college of business',\n",
       "       'clark university, school of professional studies',\n",
       "       'drexel university, lebow college of business',\n",
       "       'the university of akron, college of business'], dtype=object)"
      ]
     },
     "execution_count": 33,
     "metadata": {},
     "output_type": "execute_result"
    }
   ],
   "source": [
    "df['U3Choice of School #3'].unique()"
   ]
  },
  {
   "cell_type": "markdown",
   "metadata": {},
   "source": [
    "Saving to output\n"
   ]
  },
  {
   "cell_type": "code",
   "execution_count": 34,
   "metadata": {},
   "outputs": [],
   "source": [
    "df.to_excel('output.xlsx')"
   ]
  }
 ],
 "metadata": {
  "kernelspec": {
   "display_name": "base",
   "language": "python",
   "name": "python3"
  },
  "language_info": {
   "codemirror_mode": {
    "name": "ipython",
    "version": 3
   },
   "file_extension": ".py",
   "mimetype": "text/x-python",
   "name": "python",
   "nbconvert_exporter": "python",
   "pygments_lexer": "ipython3",
   "version": "3.12.4"
  }
 },
 "nbformat": 4,
 "nbformat_minor": 2
}
