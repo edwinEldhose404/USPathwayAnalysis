{
 "cells": [
  {
   "cell_type": "code",
   "execution_count": 151,
   "metadata": {},
   "outputs": [],
   "source": [
    "import pandas as pd\n",
    "import numpy as np\n",
    "\n",
    "df = pd.read_csv('CandidateApplicationTrackerWithoutLeadIDs.csv',index_col=0)"
   ]
  },
  {
   "cell_type": "code",
   "execution_count": 152,
   "metadata": {},
   "outputs": [
    {
     "name": "stdout",
     "output_type": "stream",
     "text": [
      "Index(['Candidate Name', 'Counselor Name', 'Block Amount Received Date',\n",
      "       'Univ. Pitched', 'Candidate Preferred College #1',\n",
      "       'Candidate Preferred College #2', '10th Percentage ',\n",
      "       '12th Percentange', 'UG - CGPA (out of 10) ', 'GPA (Out of 4)',\n",
      "       'PG - CGPA or %', 'Work Exp.', 'Highest Education',\n",
      "       'Designation - Company Name ', 'Candidate Application Status',\n",
      "       'Candidate Loan Status', 'KYC & Acad Documents Received',\n",
      "       'Tech Exam Scores', 'Coding Test Score', 'English Exam Scores',\n",
      "       'English Interview Score (15)', 'Tech. interview Score (10)',\n",
      "       'Application Type', 'Intake Status', 'U1Choice of School #1',\n",
      "       'U1Choice of Program #1', 'U1Passport #1', 'U1Resume #1', 'U1Degree #1',\n",
      "       'U1Transcript #1', 'U1Application Status #1', 'U1Offer Letter #1',\n",
      "       'U2Choice of School #2', 'U2Choice of Program #2',\n",
      "       'U2Application Status #2', 'U2Offer Letter #2', 'U2Deposit #2',\n",
      "       'U3Choice of School #3', 'U3Choice of Program #3',\n",
      "       'U3Application Status #3', 'U3Offer Letter #3', 'IIM / IIT  Status',\n",
      "       ' Loan Status', 'Loan Partner I', 'Existing Loan', 'CV/Resume',\n",
      "       'Sponsorship Letter', 'i20 Provisioned', 'Status '],\n",
      "      dtype='object')\n"
     ]
    }
   ],
   "source": [
    "print(df.columns)"
   ]
  },
  {
   "cell_type": "markdown",
   "metadata": {},
   "source": [
    "Removing extra bits of strings from data and ready it for conversion to float"
   ]
  },
  {
   "cell_type": "code",
   "execution_count": 153,
   "metadata": {},
   "outputs": [],
   "source": [
    "import re\n",
    "misc = ['10th Percentage ','12th Percentange','GPA (Out of 4)']\n",
    "scoresCol = [ 'UG - CGPA (out of 10) ', 'PG - CGPA or %','10th Percentage ','12th Percentange','GPA (Out of 4)']\n",
    "\n",
    "def remove_section(val, section):\n",
    "    if pd.isnull(val):\n",
    "        return val\n",
    "    val = str(val)\n",
    "    return val.replace(section, '').strip()\n",
    "\n",
    "\n",
    "\n",
    "def remove_brackets(val):\n",
    "    if pd.isnull(val):\n",
    "        return val\n",
    "    val = str(val)\n",
    "    result = ''\n",
    "    skip = 0\n",
    "    for char in val:\n",
    "        if char == '(':\n",
    "            skip += 1\n",
    "        elif char == ')' and skip > 0:\n",
    "            skip -= 1\n",
    "        elif skip == 0:\n",
    "            result += char\n",
    "    return result.strip()\n",
    "\n",
    "sections=[' gpa',' cgpa',' - diploma in civil engg',' - diploma',' credits','%',' cpi',' credits']\n",
    "\n",
    "for section_str in sections:\n",
    "    for col in scoresCol:\n",
    "        df[col] = df[col].astype(str)\n",
    "        df[col] = df[col].apply(lambda x: remove_section(x, section_str))\n",
    "        df[col] = df[col].apply(remove_brackets)\n",
    "    "
   ]
  },
  {
   "cell_type": "code",
   "execution_count": 154,
   "metadata": {},
   "outputs": [],
   "source": [
    "sections=[' gpa',' cgpa',' - diploma in civil engg',' - diploma',' credits','%',' cpi',' credits']\n",
    "\n",
    "def replace_section(val, section, r):\n",
    "    if pd.isnull(val):\n",
    "        return val\n",
    "    val = str(val)\n",
    "    return val.replace(section, r).strip()\n",
    "\n",
    "for col in scoresCol:\n",
    "    df[col] = df[col].apply(lambda x: replace_section(x, 'a+','95' ))\n",
    "    df[col] = df[col].apply(lambda x: replace_section(x, 'na','0' ))\n",
    "    df[col] = df[col].apply(lambda x: replace_section(x, 'f','0' ))"
   ]
  },
  {
   "cell_type": "code",
   "execution_count": 155,
   "metadata": {},
   "outputs": [],
   "source": [
    "def process_value(val):\n",
    "    if pd.isnull(val):\n",
    "        return val\n",
    "    if isinstance(val, str) and '/4' in val:\n",
    "        val = val.replace('/4', '')\n",
    "        try:\n",
    "            result = float(val) * 2.5\n",
    "            return str(result)\n",
    "        except ValueError:\n",
    "            return val\n",
    "    return val\n",
    "\n",
    "for col in scoresCol:\n",
    "    df[col] = df[col].apply(process_value)"
   ]
  },
  {
   "cell_type": "code",
   "execution_count": 156,
   "metadata": {},
   "outputs": [],
   "source": [
    "for col in scoresCol:\n",
    "    df[col] = df[col].replace('-', '')\n",
    "    df[col] = df[col].replace('', '0')"
   ]
  },
  {
   "cell_type": "markdown",
   "metadata": {},
   "source": [
    "Converting to float"
   ]
  },
  {
   "cell_type": "code",
   "execution_count": 157,
   "metadata": {},
   "outputs": [],
   "source": [
    "for col in scoresCol:\n",
    "        df[col] = df[col].astype(float)"
   ]
  },
  {
   "cell_type": "markdown",
   "metadata": {},
   "source": [
    "Changing all floats to be out of 100"
   ]
  },
  {
   "cell_type": "code",
   "execution_count": 158,
   "metadata": {},
   "outputs": [],
   "source": [
    "outoften = ['UG - CGPA (out of 10) ', 'PG - CGPA or %']\n",
    "\n",
    "for i in range(3):\n",
    "    for col in outoften:\n",
    "        df[col] = df[col].apply(lambda x : x*10 if x<1 else x)\n",
    "        df[col] = df[col].apply(lambda x : x/10 if x>10 else x)\n",
    "\n",
    "for i in range(3):\n",
    "    df['GPA (Out of 4)'] = df['GPA (Out of 4)'].apply(lambda x : x/10 if x>4 else x)"
   ]
  },
  {
   "cell_type": "code",
   "execution_count": 159,
   "metadata": {},
   "outputs": [],
   "source": [
    "#DO NOT RUN MORE THAN ONCE\n",
    "for col in outoften:\n",
    "    df[col] = df[col].apply(lambda x : x*10)\n",
    "\n",
    "df['GPA (Out of 4)'] = df['GPA (Out of 4)'].apply(lambda x : x*25)"
   ]
  },
  {
   "cell_type": "markdown",
   "metadata": {},
   "source": [
    "Cleaning Experience years"
   ]
  },
  {
   "cell_type": "code",
   "execution_count": 160,
   "metadata": {},
   "outputs": [],
   "source": [
    "sections=['years','year','+']\n",
    "\n",
    "for section_str in sections:\n",
    "    df['Work Exp.'] = df['Work Exp.'].astype(str)\n",
    "    df['Work Exp.'] = df['Work Exp.'].apply(lambda x: remove_section(x, section_str))"
   ]
  },
  {
   "cell_type": "code",
   "execution_count": 161,
   "metadata": {},
   "outputs": [],
   "source": [
    "df['Work Exp.'] = df['Work Exp.'].apply(lambda x: x.replace(' ', ''))"
   ]
  },
  {
   "cell_type": "code",
   "execution_count": 162,
   "metadata": {},
   "outputs": [],
   "source": [
    "def range_to_average(val):\n",
    "    if pd.isnull(val):\n",
    "        return val\n",
    "    if isinstance(val, str) and '-' in val:\n",
    "        try:\n",
    "            start, end = val.split('-')\n",
    "            start, end = float(start), float(end)\n",
    "            average = (start + end) / 2\n",
    "            return average\n",
    "        except ValueError:\n",
    "            return val\n",
    "    return val\n",
    "\n",
    "df['Work Exp.'] = df['Work Exp.'].apply(range_to_average)"
   ]
  },
  {
   "cell_type": "code",
   "execution_count": 163,
   "metadata": {},
   "outputs": [],
   "source": [
    "df['Work Exp.'] = df['Work Exp.'].astype(str)\n",
    "df['Work Exp.'] = df['Work Exp.'].apply(lambda x: x.replace('7months', '0.6'))\n",
    "df['Work Exp.'] = df['Work Exp.'].apply(lambda x: x.replace('fresher', '0'))"
   ]
  },
  {
   "cell_type": "code",
   "execution_count": 164,
   "metadata": {},
   "outputs": [],
   "source": [
    "df['Work Exp.'] = df['Work Exp.'].astype(float)"
   ]
  },
  {
   "cell_type": "markdown",
   "metadata": {},
   "source": [
    "Saving into output.xlsx"
   ]
  },
  {
   "cell_type": "code",
   "execution_count": 165,
   "metadata": {},
   "outputs": [],
   "source": [
    "df.to_excel('output.xlsx')"
   ]
  }
 ],
 "metadata": {
  "kernelspec": {
   "display_name": "base",
   "language": "python",
   "name": "python3"
  },
  "language_info": {
   "codemirror_mode": {
    "name": "ipython",
    "version": 3
   },
   "file_extension": ".py",
   "mimetype": "text/x-python",
   "name": "python",
   "nbconvert_exporter": "python",
   "pygments_lexer": "ipython3",
   "version": "3.12.4"
  }
 },
 "nbformat": 4,
 "nbformat_minor": 2
}
