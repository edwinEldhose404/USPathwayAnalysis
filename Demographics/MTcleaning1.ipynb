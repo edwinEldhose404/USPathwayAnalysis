{
 "cells": [
  {
   "cell_type": "code",
   "execution_count": 316,
   "metadata": {},
   "outputs": [],
   "source": [
    "import pandas as pd\n",
    "import numpy as np\n",
    "\n",
    "df = pd.read_excel('MeteTargeting.xlsx')"
   ]
  },
  {
   "cell_type": "code",
   "execution_count": 317,
   "metadata": {},
   "outputs": [],
   "source": [
    "# df['Targeting_part1'].unique()"
   ]
  },
  {
   "cell_type": "code",
   "execution_count": 318,
   "metadata": {},
   "outputs": [
    {
     "data": {
      "text/plain": [
       "Index(['campaign_name', 'adset_name', 'Targeting'], dtype='object')"
      ]
     },
     "execution_count": 318,
     "metadata": {},
     "output_type": "execute_result"
    }
   ],
   "source": [
    "df.columns"
   ]
  },
  {
   "cell_type": "markdown",
   "metadata": {},
   "source": [
    "Split Targeting by '\\n'"
   ]
  },
  {
   "cell_type": "code",
   "execution_count": 319,
   "metadata": {},
   "outputs": [],
   "source": [
    "tar = ['Targeting']\n",
    "\n",
    "def remove_section(val, section):\n",
    "    if pd.isnull(val):\n",
    "        return val\n",
    "    val = str(val)\n",
    "    return val.replace(section, '').strip()\n",
    "\n",
    "\n",
    "sections=['Customer List','Location:','Edit']\n",
    "\n",
    "for section_str in sections:\n",
    "    for col in tar:\n",
    "        df[col] = df[col].astype(str)\n",
    "        df[col] = df[col].apply(lambda x: remove_section(x, section_str))"
   ]
  },
  {
   "cell_type": "code",
   "execution_count": 320,
   "metadata": {},
   "outputs": [],
   "source": [
    "sepcol = df['Targeting'].str.split('\\n', expand=True)\n",
    "\n",
    "sepcol.columns = [f'Targeting_part{i+1}' for i in range(sepcol.shape[1])]\n",
    "\n",
    "df = df.drop(columns=['Targeting']).join(sepcol)"
   ]
  },
  {
   "cell_type": "markdown",
   "metadata": {},
   "source": [
    "Split all rows containing 'Custom Audiences' to another excel"
   ]
  },
  {
   "cell_type": "code",
   "execution_count": 321,
   "metadata": {},
   "outputs": [],
   "source": [
    "cust_audience = df[df['Targeting_part1'] == 'Custom Audiences']\n",
    "\n",
    "cust_audience.to_excel('custAudience.xlsx')"
   ]
  },
  {
   "cell_type": "code",
   "execution_count": 322,
   "metadata": {},
   "outputs": [],
   "source": [
    "df_nocust = df[df['Targeting_part1'] != 'Custom Audiences']"
   ]
  },
  {
   "cell_type": "markdown",
   "metadata": {},
   "source": [
    "Split all rows with 'Exclude' to another excel"
   ]
  },
  {
   "cell_type": "code",
   "execution_count": 323,
   "metadata": {},
   "outputs": [],
   "source": [
    "exclude = df[df['Targeting_part2'] == 'Exclude ']\n",
    "\n",
    "exclude.to_excel('ExcludeRem.xlsx')"
   ]
  },
  {
   "cell_type": "code",
   "execution_count": 324,
   "metadata": {},
   "outputs": [],
   "source": [
    "df_nocust = df[df['Targeting_part1'] != 'Custom Audiences']\n",
    "df_nocust = df_nocust[df_nocust['Targeting_part2'] != 'Exclude ']"
   ]
  },
  {
   "cell_type": "markdown",
   "metadata": {},
   "source": [
    "Function that deletes a cell and moves all columns to the right of the cell once to the left"
   ]
  },
  {
   "cell_type": "code",
   "execution_count": 325,
   "metadata": {},
   "outputs": [],
   "source": [
    "def slide_col(start,checker):\n",
    "\n",
    "    movcol = ['Targeting_part2', 'Targeting_part3', 'Targeting_part4', 'Targeting_part5',\n",
    "        'Targeting_part6', 'Targeting_part7', 'Targeting_part8',\n",
    "        'Targeting_part9', 'Targeting_part10', 'Targeting_part11',\n",
    "        'Targeting_part12', 'Targeting_part13', 'Targeting_part14',\n",
    "        'Targeting_part15', 'Targeting_part16', 'Targeting_part17',\n",
    "        'Targeting_part18', 'Targeting_part19']\n",
    "    \n",
    "    \n",
    "    mask = df_nocust[movcol[start]] == checker\n",
    "\n",
    "    for i in range(start,len(movcol)-1):\n",
    "        df_nocust.loc[mask, movcol[i]] = df_nocust.loc[mask, movcol[i+1]]\n",
    "\n",
    "slide_col(0,'')"
   ]
  },
  {
   "cell_type": "code",
   "execution_count": 326,
   "metadata": {},
   "outputs": [],
   "source": [
    "df_nocust['Targeting_part2'] = df_nocust['Targeting_part2'].str.replace(':','')\n",
    "\n",
    "\n",
    "slide_col(1,'Age')\n",
    "slide_col(1,'Age')\n",
    "slide_col(2,'')\n",
    "slide_col(2,'')"
   ]
  },
  {
   "cell_type": "code",
   "execution_count": 327,
   "metadata": {},
   "outputs": [],
   "source": [
    "\n",
    "\n",
    "def range_to_average(val):\n",
    "    if pd.isnull(val):\n",
    "        return val\n",
    "    if isinstance(val, str) and '-' in val:\n",
    "        try:\n",
    "            start, end = val.split('-')\n",
    "            start, end = float(start), float(end)\n",
    "            average = (start + end) / 2\n",
    "            return average\n",
    "        except ValueError:\n",
    "            return val\n",
    "    return val\n",
    "\n",
    "df_nocust['Targeting_part3'] = df_nocust['Targeting_part3'].apply(range_to_average)"
   ]
  },
  {
   "cell_type": "code",
   "execution_count": 333,
   "metadata": {},
   "outputs": [],
   "source": [
    "old_df = df\n",
    "df = df_nocust"
   ]
  },
  {
   "cell_type": "code",
   "execution_count": 334,
   "metadata": {},
   "outputs": [],
   "source": [
    "df.loc[df_nocust['Targeting_part5'].str.contains('Artificial intelligence', na=False), 'Targeting_part5'] = 'CSE'\n",
    "df.loc[df_nocust['Targeting_part5'].str.contains('At high school', na=False), 'Targeting_part5'] = 'Gen HighSchool Passed'\n",
    "df.loc[df_nocust['Targeting_part5'].str.contains('USA', na=False), 'Targeting_part5'] = 'Abroad'"
   ]
  },
  {
   "cell_type": "markdown",
   "metadata": {},
   "source": [
    "Frequently Used Functions"
   ]
  },
  {
   "cell_type": "code",
   "execution_count": 339,
   "metadata": {},
   "outputs": [
    {
     "data": {
      "text/plain": [
       "array([None, 'Interests: Study abroad', 'Detailed targeting',\n",
       "       'Education Level: University graduate',\n",
       "       'Interests: Clark University, Tulane University, University of Miami, Rutgers University, Drexel University, Fordham University, DePaul University, Rochester Institute of Technology, Stony Brook University, University of Akron, Case Western Reserve University, University at Albany, SUNY, Pace University or Gonzaga University, School/University: Rider University, West Texas A&M University or City University of Seattle',\n",
       "       'Interests: International, College admissions in the United States, Study Abroad, Study abroad in the United States or International education',\n",
       "       \"Interests: Business school (higher education), Digital marketing (marketing), Master of Business Administration (higher education), Postgraduate education (higher education), Marketing (business and finance), Online advertising (marketing), Advertising (marketing) or Master's degree (higher education)\",\n",
       "       'Interests: Clark University, Tulane University, University of Miami, Rutgers University, Drexel University, Rochester Institute of Technology, Stony Brook University, University of Akron, Case Western Reserve University, University at Albany, SUNY or Pace University, School/University: Rider University, West Texas A&M University or City University of Seattle',\n",
       "       '',\n",
       "       'Interests: International English Language Testing System (tests), Graduate Management Admission Test, Graduate Record Examinations, Test of English as a Foreign Language or TOEIC',\n",
       "       'Interests: Washington University in St. Louis, Texas A&M University, Clark University, Purdue University, University of Southern California, Tulane University, University of Massachusetts, University of Miami, University of Massachusetts Boston, University of Arizona, Stevens Institute of Technology, Rutgers University, Missouri University of Science and Technology, Drexel University, University of Delaware, Iowa State University, Vanderbilt University, University of Tennessee, University of Oklahoma, North Carolina State University, Colorado State University, University of Kansas, Pennsylvania State University, New Jersey Institute of Technology, Dartmouth College, University of California, Santa Barbara, Boston College, University of Hawaii at Manoa, Tufts University, Oregon State University, University of Rochester, Rochester Institute of Technology, University of California, Rice University, Stony Brook University, University of Central Florida, University of Akron, New Brunswick, University of Texas at Dallas, University of Connecticut, The University of New Mexico - UNM, University of Washington, University of Iowa, Lehigh University, Florida State University, Case Western Reserve University, University of Florida, Illinois Institute of Technology, University at Albany, SUNY, University of Nebraska–Lincoln, Colorado School of Mines, University of South Carolina, Washington State University, University of Houston, University of Illinois at Urbana–Champaign, University of Virginia, City University of New York, University of North Carolina at Chapel Hill, Brown University, Rensselaer Polytechnic Institute, Pace University, University of Missouri, Indiana University, Ohio State University, University of Georgia, The New School, Michigan State University, Northeastern University, University of Utah, University of South Florida, University of Wisconsin–Madison, George Washington University, University of Minnesota, University of Pittsburgh, Arizona State University, Florida International University, Georgia Institute of Technology, University of Massachusetts Amherst or Virginia Tech, School/University: Rider University, DePaul University, West Texas A&M University, Fordham University or City University of Seattle',\n",
       "       'Interests: Yale University, Los Angeles, New York University, Cornell University, University of Cambridge, University of Pennsylvania, University of California, Los Angeles, Princeton University, Harvard University, Stanford University, Massachusetts Institute of Technology, University of Manchester, Columbia University, University of Oxford or San Diego'],\n",
       "      dtype=object)"
      ]
     },
     "execution_count": 339,
     "metadata": {},
     "output_type": "execute_result"
    }
   ],
   "source": [
    "df_nocust['Targeting_part7'].unique()"
   ]
  },
  {
   "cell_type": "code",
   "execution_count": 338,
   "metadata": {},
   "outputs": [],
   "source": [
    "df_nocust.to_csv('noCustAudiences.csv')"
   ]
  },
  {
   "cell_type": "code",
   "execution_count": 330,
   "metadata": {},
   "outputs": [
    {
     "data": {
      "text/plain": [
       "Index(['campaign_name', 'adset_name', 'Targeting_part1', 'Targeting_part2',\n",
       "       'Targeting_part3', 'Targeting_part4', 'Targeting_part5',\n",
       "       'Targeting_part6', 'Targeting_part7', 'Targeting_part8',\n",
       "       'Targeting_part9', 'Targeting_part10', 'Targeting_part11',\n",
       "       'Targeting_part12', 'Targeting_part13', 'Targeting_part14',\n",
       "       'Targeting_part15', 'Targeting_part16', 'Targeting_part17',\n",
       "       'Targeting_part18', 'Targeting_part19'],\n",
       "      dtype='object')"
      ]
     },
     "execution_count": 330,
     "metadata": {},
     "output_type": "execute_result"
    }
   ],
   "source": [
    "df_nocust.columns"
   ]
  }
 ],
 "metadata": {
  "kernelspec": {
   "display_name": "base",
   "language": "python",
   "name": "python3"
  },
  "language_info": {
   "codemirror_mode": {
    "name": "ipython",
    "version": 3
   },
   "file_extension": ".py",
   "mimetype": "text/x-python",
   "name": "python",
   "nbconvert_exporter": "python",
   "pygments_lexer": "ipython3",
   "version": "3.11.4"
  }
 },
 "nbformat": 4,
 "nbformat_minor": 2
}
