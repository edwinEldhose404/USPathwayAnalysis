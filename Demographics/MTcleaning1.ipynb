{
 "cells": [
  {
   "cell_type": "code",
   "execution_count": 674,
   "metadata": {},
   "outputs": [],
   "source": [
    "import pandas as pd\n",
    "import numpy as np\n",
    "\n",
    "df = pd.read_excel('MetaTargeting.xlsx')"
   ]
  },
  {
   "cell_type": "code",
   "execution_count": 675,
   "metadata": {},
   "outputs": [
    {
     "data": {
      "text/plain": [
       "Index(['campaign_name', 'adset_name', 'Targeting'], dtype='object')"
      ]
     },
     "execution_count": 675,
     "metadata": {},
     "output_type": "execute_result"
    }
   ],
   "source": [
    "df.columns"
   ]
  },
  {
   "cell_type": "markdown",
   "metadata": {},
   "source": [
    "Split Targeting by '\\n'"
   ]
  },
  {
   "cell_type": "code",
   "execution_count": 676,
   "metadata": {},
   "outputs": [],
   "source": [
    "tar = ['Targeting']\n",
    "\n",
    "def remove_section(val, section):\n",
    "    if pd.isnull(val):\n",
    "        return val\n",
    "    val = str(val)\n",
    "    return val.replace(section, '').strip()\n",
    "\n",
    "\n",
    "sections=['Customer List','Location:','Edit']\n",
    "\n",
    "for section_str in sections:\n",
    "    for col in tar:\n",
    "        df[col] = df[col].astype(str)\n",
    "        df[col] = df[col].apply(lambda x: remove_section(x, section_str))"
   ]
  },
  {
   "cell_type": "code",
   "execution_count": 677,
   "metadata": {},
   "outputs": [],
   "source": [
    "sepcol = df['Targeting'].str.split('\\n', expand=True)\n",
    "\n",
    "sepcol.columns = [f'Targeting_part{i+1}' for i in range(sepcol.shape[1])]\n",
    "\n",
    "df = df.drop(columns=['Targeting']).join(sepcol)"
   ]
  },
  {
   "cell_type": "markdown",
   "metadata": {},
   "source": [
    "Split all rows containing 'Custom Audiences' to another excel"
   ]
  },
  {
   "cell_type": "code",
   "execution_count": 678,
   "metadata": {},
   "outputs": [],
   "source": [
    "cust_audience = df[df['Targeting_part1'] == 'Custom Audiences']\n",
    "\n",
    "cust_audience.to_excel('custAudience.xlsx')"
   ]
  },
  {
   "cell_type": "code",
   "execution_count": 679,
   "metadata": {},
   "outputs": [],
   "source": [
    "df_nocust = df[df['Targeting_part1'] != 'Custom Audiences']"
   ]
  },
  {
   "cell_type": "markdown",
   "metadata": {},
   "source": [
    "Function that deletes a cell and moves all columns to the right of the cell once to the left"
   ]
  },
  {
   "cell_type": "code",
   "execution_count": 680,
   "metadata": {},
   "outputs": [],
   "source": [
    "def slide_col(start,checker):\n",
    "\n",
    "    movcol = ['Targeting_part2', 'Targeting_part3', 'Targeting_part4', 'Targeting_part5',\n",
    "        'Targeting_part6', 'Targeting_part7', 'Targeting_part8',\n",
    "        'Targeting_part9', 'Targeting_part10', 'Targeting_part11',\n",
    "        'Targeting_part12', 'Targeting_part13', 'Targeting_part14',\n",
    "        'Targeting_part15', 'Targeting_part16', 'Targeting_part17',\n",
    "        'Targeting_part18', 'Targeting_part19']\n",
    "    \n",
    "    \n",
    "    mask = df_nocust[movcol[start]] == checker\n",
    "\n",
    "    for i in range(start,len(movcol)-1):\n",
    "        df_nocust.loc[mask, movcol[i]] = df_nocust.loc[mask, movcol[i+1]]\n",
    "\n",
    "slide_col(0,'')"
   ]
  },
  {
   "cell_type": "markdown",
   "metadata": {},
   "source": [
    "Remove 'Exclude' as a column and instead change targeting1 to 'India excl AP,KA,TM,TL'"
   ]
  },
  {
   "cell_type": "code",
   "execution_count": 681,
   "metadata": {},
   "outputs": [],
   "source": [
    "slide_col(0,'Exclude ')\n",
    "df_nocust.loc[df_nocust['Targeting_part2'] == 'India: Andhra Pradesh; Karnataka; Tamil Nadu; Telangana', 'Targeting_part1'] = 'India excl AP,KA,TM,TL'\n",
    "slide_col(0,'India: Andhra Pradesh; Karnataka; Tamil Nadu; Telangana')\n",
    "slide_col(0,'')"
   ]
  },
  {
   "cell_type": "markdown",
   "metadata": {},
   "source": [
    "Removes Useless Cells"
   ]
  },
  {
   "cell_type": "code",
   "execution_count": 682,
   "metadata": {},
   "outputs": [],
   "source": [
    "df_nocust['Targeting_part2'] = df_nocust['Targeting_part2'].str.replace(':','')\n",
    "\n",
    "\n",
    "slide_col(1,'Age')\n",
    "slide_col(1,'Age')\n",
    "slide_col(2,'')\n",
    "slide_col(2,'')"
   ]
  },
  {
   "cell_type": "code",
   "execution_count": 683,
   "metadata": {},
   "outputs": [],
   "source": [
    "slide_col(2,'Gender')\n",
    "slide_col(2,'All genders')\n",
    "slide_col(2,'Detailed targeting')\n",
    "slide_col(2,'Detailed targeting')\n",
    "slide_col(3,'Detailed targeting')"
   ]
  },
  {
   "cell_type": "markdown",
   "metadata": {},
   "source": [
    "Convert Age Ranges to a average float for easier visualizing"
   ]
  },
  {
   "cell_type": "markdown",
   "metadata": {},
   "source": [
    "Change type to python and run to do above feature"
   ]
  },
  {
   "cell_type": "raw",
   "metadata": {
    "vscode": {
     "languageId": "raw"
    }
   },
   "source": [
    "\n",
    "\n",
    "def range_to_average(val):\n",
    "    if pd.isnull(val):\n",
    "        return val\n",
    "    if isinstance(val, str) and '-' in val:\n",
    "        try:\n",
    "            start, end = val.split('-')\n",
    "            start, end = float(start), float(end)\n",
    "            average = (start + end) / 2\n",
    "            return average\n",
    "        except ValueError:\n",
    "            return val\n",
    "    return val\n",
    "\n",
    "df_nocust['Targeting_part3'] = df_nocust['Targeting_part3'].apply(range_to_average)"
   ]
  },
  {
   "cell_type": "markdown",
   "metadata": {},
   "source": [
    "Prepare Data to be recombined by shortening longer strings"
   ]
  },
  {
   "cell_type": "code",
   "execution_count": 684,
   "metadata": {},
   "outputs": [],
   "source": [
    "old_df = df\n",
    "df = df_nocust\n",
    "\n",
    "combcol = ['Targeting_part4', 'Targeting_part5',\n",
    "        'Targeting_part6','Targeting_part7', 'Targeting_part8',\n",
    "        'Targeting_part9', 'Targeting_part10', 'Targeting_part11',\n",
    "        'Targeting_part12', 'Targeting_part13', 'Targeting_part14',\n",
    "        'Targeting_part15', 'Targeting_part16', 'Targeting_part17',\n",
    "        'Targeting_part18', 'Targeting_part19']"
   ]
  },
  {
   "cell_type": "code",
   "execution_count": 685,
   "metadata": {},
   "outputs": [],
   "source": [
    "for i in combcol:\n",
    "    df.loc[df[i].str.contains('Artificial intelligence', na=False), i] = 'CSE'\n",
    "    df.loc[df[i].str.contains('At high school', na=False), i] = 'Gen_HSPass'\n",
    "    df.loc[df[i].str.contains('USA', na=False), i] = 'Abroad'\n",
    "    df.loc[df[i].str.contains('Clark', na=False), i] = 'AvailUni'\n",
    "    df.loc[df[i].str.contains('Study Abroad', na=False), i] = 'Abroad'\n",
    "    df.loc[df[i].str.contains('marketing', na=False), i] = 'Business&Marketing'\n",
    "    df.loc[df[i].str.contains('Admission Test', na=False), i] = 'LangTests'\n",
    "    df.loc[df[i].str.contains('Yale', na=False), i] = 'EliteUni '\n",
    "    df.loc[df[i].str.contains('Education Level: University graduate', na=False), i] = 'PostGrad'\n",
    "    df.loc[df[i].str.contains('Interests: Master of Business', na=False), i] = 'PostGrad'"
   ]
  },
  {
   "cell_type": "markdown",
   "metadata": {},
   "source": [
    "Combine all columns relating to interests and exclusions"
   ]
  },
  {
   "cell_type": "code",
   "execution_count": 686,
   "metadata": {},
   "outputs": [],
   "source": [
    "\n",
    "\n",
    "df['Targeting_part7'] = df[combcol].fillna('').apply(lambda x: ' '.join(x), axis=1)\n",
    "df['Targeting_part7'] = df['Targeting_part7'].str.strip()"
   ]
  },
  {
   "cell_type": "markdown",
   "metadata": {},
   "source": [
    "Shorten For Easier analyzing"
   ]
  },
  {
   "cell_type": "code",
   "execution_count": 687,
   "metadata": {},
   "outputs": [],
   "source": [
    "df['Targeting_part7']=df['Targeting_part7'].str.replace('Detailed targeting ','')\n",
    "df['Targeting_part7']=df['Targeting_part7'].str.replace('And must also match:','and')\n",
    "df['Targeting_part7']=df['Targeting_part7'].str.replace('Interests: ','')\n",
    "df['Targeting_part7']=df['Targeting_part7'].str.replace('People who match: ','')\n",
    "df['Targeting_part7']=df['Targeting_part7'].str.replace('Study abroad','Abroad')"
   ]
  },
  {
   "cell_type": "markdown",
   "metadata": {},
   "source": [
    "Remove repeating strings"
   ]
  },
  {
   "cell_type": "code",
   "execution_count": 688,
   "metadata": {},
   "outputs": [],
   "source": [
    "def remrepeat(text):\n",
    "    words = text.split()\n",
    "    result = []\n",
    "    prev_word = None\n",
    "    for word in words:\n",
    "        if word != prev_word:\n",
    "            result.append(word)\n",
    "        prev_word = word\n",
    "    return ' '.join(result)\n",
    "\n",
    "df['Targeting_part7'] = df['Targeting_part7'].apply(lambda x: remrepeat(x))"
   ]
  },
  {
   "cell_type": "markdown",
   "metadata": {},
   "source": [
    "Remove Extra Columns"
   ]
  },
  {
   "cell_type": "code",
   "execution_count": 689,
   "metadata": {},
   "outputs": [],
   "source": [
    "df = df.drop(columns=['Targeting_part2','Targeting_part4', 'Targeting_part5',\n",
    "        'Targeting_part6', 'Targeting_part8',\n",
    "        'Targeting_part9', 'Targeting_part10', 'Targeting_part11',\n",
    "        'Targeting_part12', 'Targeting_part13', 'Targeting_part14',\n",
    "        'Targeting_part15', 'Targeting_part16', 'Targeting_part17',\n",
    "        'Targeting_part18', 'Targeting_part19'])"
   ]
  },
  {
   "cell_type": "markdown",
   "metadata": {},
   "source": [
    "Rename Targeting_part7"
   ]
  },
  {
   "cell_type": "code",
   "execution_count": 690,
   "metadata": {},
   "outputs": [],
   "source": [
    "df = df.rename(columns={'Targeting_part7': 'TargetAudience'})\n",
    "df = df.rename(columns={'Targeting_part1': 'Region'})\n",
    "df = df.rename(columns={'Targeting_part3': 'Age Range'})"
   ]
  },
  {
   "cell_type": "markdown",
   "metadata": {},
   "source": [
    "Convert DataFrame to excel as final product\n"
   ]
  },
  {
   "cell_type": "code",
   "execution_count": 691,
   "metadata": {},
   "outputs": [],
   "source": [
    "df.to_csv('noCustAudiences.csv')"
   ]
  },
  {
   "cell_type": "markdown",
   "metadata": {},
   "source": [
    "Frequently Used Functions"
   ]
  },
  {
   "cell_type": "code",
   "execution_count": 692,
   "metadata": {},
   "outputs": [
    {
     "data": {
      "text/plain": [
       "array(['25-35', None, '24-30', '24-33', '25 - 30', '25-30', '23-30',\n",
       "       '24-32', '25-40'], dtype=object)"
      ]
     },
     "execution_count": 692,
     "metadata": {},
     "output_type": "execute_result"
    }
   ],
   "source": [
    "df['Age Range'].unique()"
   ]
  },
  {
   "cell_type": "code",
   "execution_count": 693,
   "metadata": {},
   "outputs": [
    {
     "data": {
      "text/plain": [
       "Index(['campaign_name', 'adset_name', 'Region', 'Age Range', 'TargetAudience'], dtype='object')"
      ]
     },
     "execution_count": 693,
     "metadata": {},
     "output_type": "execute_result"
    }
   ],
   "source": [
    "df.columns"
   ]
  }
 ],
 "metadata": {
  "kernelspec": {
   "display_name": "base",
   "language": "python",
   "name": "python3"
  },
  "language_info": {
   "codemirror_mode": {
    "name": "ipython",
    "version": 3
   },
   "file_extension": ".py",
   "mimetype": "text/x-python",
   "name": "python",
   "nbconvert_exporter": "python",
   "pygments_lexer": "ipython3",
   "version": "3.11.4"
  }
 },
 "nbformat": 4,
 "nbformat_minor": 2
}
